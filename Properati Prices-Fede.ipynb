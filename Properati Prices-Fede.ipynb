{
 "cells": [
  {
   "cell_type": "code",
   "execution_count": 27,
   "metadata": {},
   "outputs": [],
   "source": [
    "import numpy as np\n",
    "import pandas as pd\n",
    "import matplotlib.pyplot as plt\n",
    "import seaborn as sns\n",
    "from sklearn import preprocessing\n",
    "from sklearn import impute"
   ]
  },
  {
   "cell_type": "code",
   "execution_count": 82,
   "metadata": {},
   "outputs": [
    {
     "data": {
      "text/html": [
       "<div>\n",
       "<style scoped>\n",
       "    .dataframe tbody tr th:only-of-type {\n",
       "        vertical-align: middle;\n",
       "    }\n",
       "\n",
       "    .dataframe tbody tr th {\n",
       "        vertical-align: top;\n",
       "    }\n",
       "\n",
       "    .dataframe thead th {\n",
       "        text-align: right;\n",
       "    }\n",
       "</style>\n",
       "<table border=\"1\" class=\"dataframe\">\n",
       "  <thead>\n",
       "    <tr style=\"text-align: right;\">\n",
       "      <th></th>\n",
       "      <th>Unnamed: 0</th>\n",
       "      <th>operation</th>\n",
       "      <th>property_type</th>\n",
       "      <th>place_name</th>\n",
       "      <th>place_with_parent_names</th>\n",
       "      <th>country_name</th>\n",
       "      <th>state_name</th>\n",
       "      <th>geonames_id</th>\n",
       "      <th>lat-lon</th>\n",
       "      <th>lat</th>\n",
       "      <th>...</th>\n",
       "      <th>surface_covered_in_m2</th>\n",
       "      <th>price_usd_per_m2</th>\n",
       "      <th>price_per_m2</th>\n",
       "      <th>floor</th>\n",
       "      <th>rooms</th>\n",
       "      <th>expenses</th>\n",
       "      <th>properati_url</th>\n",
       "      <th>description</th>\n",
       "      <th>title</th>\n",
       "      <th>image_thumbnail</th>\n",
       "    </tr>\n",
       "  </thead>\n",
       "  <tbody>\n",
       "    <tr>\n",
       "      <th>0</th>\n",
       "      <td>0</td>\n",
       "      <td>sell</td>\n",
       "      <td>PH</td>\n",
       "      <td>Mataderos</td>\n",
       "      <td>|Argentina|Capital Federal|Mataderos|</td>\n",
       "      <td>Argentina</td>\n",
       "      <td>Capital Federal</td>\n",
       "      <td>3430787.0</td>\n",
       "      <td>-34.6618237,-58.5088387</td>\n",
       "      <td>-34.661824</td>\n",
       "      <td>...</td>\n",
       "      <td>40.0</td>\n",
       "      <td>1127.272727</td>\n",
       "      <td>1550.000000</td>\n",
       "      <td>NaN</td>\n",
       "      <td>NaN</td>\n",
       "      <td>NaN</td>\n",
       "      <td>http://www.properati.com.ar/15bo8_venta_ph_mat...</td>\n",
       "      <td>2 AMBIENTES TIPO CASA PLANTA BAJA POR PASILLO,...</td>\n",
       "      <td>2 AMB TIPO CASA SIN EXPENSAS EN PB</td>\n",
       "      <td>https://thumbs4.properati.com/8/BluUYiHJLhgIIK...</td>\n",
       "    </tr>\n",
       "    <tr>\n",
       "      <th>1</th>\n",
       "      <td>1</td>\n",
       "      <td>sell</td>\n",
       "      <td>apartment</td>\n",
       "      <td>La Plata</td>\n",
       "      <td>|Argentina|Bs.As. G.B.A. Zona Sur|La Plata|</td>\n",
       "      <td>Argentina</td>\n",
       "      <td>Bs.As. G.B.A. Zona Sur</td>\n",
       "      <td>3432039.0</td>\n",
       "      <td>-34.9038831,-57.9643295</td>\n",
       "      <td>-34.903883</td>\n",
       "      <td>...</td>\n",
       "      <td>NaN</td>\n",
       "      <td>NaN</td>\n",
       "      <td>NaN</td>\n",
       "      <td>NaN</td>\n",
       "      <td>NaN</td>\n",
       "      <td>NaN</td>\n",
       "      <td>http://www.properati.com.ar/15bob_venta_depart...</td>\n",
       "      <td>Venta de departamento en décimo piso al frente...</td>\n",
       "      <td>VENTA Depto 2 dorm. a estrenar 7 e/ 36 y 37   ...</td>\n",
       "      <td>https://thumbs4.properati.com/7/ikpVBu2ztHA7jv...</td>\n",
       "    </tr>\n",
       "    <tr>\n",
       "      <th>2</th>\n",
       "      <td>2</td>\n",
       "      <td>sell</td>\n",
       "      <td>apartment</td>\n",
       "      <td>Mataderos</td>\n",
       "      <td>|Argentina|Capital Federal|Mataderos|</td>\n",
       "      <td>Argentina</td>\n",
       "      <td>Capital Federal</td>\n",
       "      <td>3430787.0</td>\n",
       "      <td>-34.6522615,-58.5229825</td>\n",
       "      <td>-34.652262</td>\n",
       "      <td>...</td>\n",
       "      <td>55.0</td>\n",
       "      <td>1309.090909</td>\n",
       "      <td>1309.090909</td>\n",
       "      <td>NaN</td>\n",
       "      <td>NaN</td>\n",
       "      <td>NaN</td>\n",
       "      <td>http://www.properati.com.ar/15bod_venta_depart...</td>\n",
       "      <td>2 AMBIENTES 3ER PISO LATERAL LIVING COMEDOR AM...</td>\n",
       "      <td>2 AMB 3ER PISO CON ASCENSOR APTO CREDITO</td>\n",
       "      <td>https://thumbs4.properati.com/5/SXKr34F_IwG3W_...</td>\n",
       "    </tr>\n",
       "  </tbody>\n",
       "</table>\n",
       "<p>3 rows × 26 columns</p>\n",
       "</div>"
      ],
      "text/plain": [
       "   Unnamed: 0 operation property_type place_name  \\\n",
       "0           0      sell            PH  Mataderos   \n",
       "1           1      sell     apartment   La Plata   \n",
       "2           2      sell     apartment  Mataderos   \n",
       "\n",
       "                       place_with_parent_names country_name  \\\n",
       "0        |Argentina|Capital Federal|Mataderos|    Argentina   \n",
       "1  |Argentina|Bs.As. G.B.A. Zona Sur|La Plata|    Argentina   \n",
       "2        |Argentina|Capital Federal|Mataderos|    Argentina   \n",
       "\n",
       "               state_name  geonames_id                  lat-lon        lat  \\\n",
       "0         Capital Federal    3430787.0  -34.6618237,-58.5088387 -34.661824   \n",
       "1  Bs.As. G.B.A. Zona Sur    3432039.0  -34.9038831,-57.9643295 -34.903883   \n",
       "2         Capital Federal    3430787.0  -34.6522615,-58.5229825 -34.652262   \n",
       "\n",
       "   ...  surface_covered_in_m2  price_usd_per_m2 price_per_m2  floor  rooms  \\\n",
       "0  ...                   40.0       1127.272727  1550.000000    NaN    NaN   \n",
       "1  ...                    NaN               NaN          NaN    NaN    NaN   \n",
       "2  ...                   55.0       1309.090909  1309.090909    NaN    NaN   \n",
       "\n",
       "   expenses                                      properati_url  \\\n",
       "0       NaN  http://www.properati.com.ar/15bo8_venta_ph_mat...   \n",
       "1       NaN  http://www.properati.com.ar/15bob_venta_depart...   \n",
       "2       NaN  http://www.properati.com.ar/15bod_venta_depart...   \n",
       "\n",
       "                                         description  \\\n",
       "0  2 AMBIENTES TIPO CASA PLANTA BAJA POR PASILLO,...   \n",
       "1  Venta de departamento en décimo piso al frente...   \n",
       "2  2 AMBIENTES 3ER PISO LATERAL LIVING COMEDOR AM...   \n",
       "\n",
       "                                               title  \\\n",
       "0                 2 AMB TIPO CASA SIN EXPENSAS EN PB   \n",
       "1  VENTA Depto 2 dorm. a estrenar 7 e/ 36 y 37   ...   \n",
       "2           2 AMB 3ER PISO CON ASCENSOR APTO CREDITO   \n",
       "\n",
       "                                     image_thumbnail  \n",
       "0  https://thumbs4.properati.com/8/BluUYiHJLhgIIK...  \n",
       "1  https://thumbs4.properati.com/7/ikpVBu2ztHA7jv...  \n",
       "2  https://thumbs4.properati.com/5/SXKr34F_IwG3W_...  \n",
       "\n",
       "[3 rows x 26 columns]"
      ]
     },
     "execution_count": 82,
     "metadata": {},
     "output_type": "execute_result"
    }
   ],
   "source": [
    "data_location = \"C:\\\\Users\\\\feder\\\\Documents\\\\Trabajo Practico 1 - Inmobiliaria Properati\\\\properati.csv\"\n",
    "data = pd.read_csv(data_location)\n",
    "data.head(3)"
   ]
  },
  {
   "cell_type": "code",
   "execution_count": 52,
   "metadata": {},
   "outputs": [
    {
     "data": {
      "text/plain": [
       "['place_name',\n",
       " 'geonames_id',\n",
       " 'lat-lon',\n",
       " 'lat',\n",
       " 'lon',\n",
       " 'price',\n",
       " 'currency',\n",
       " 'price_aprox_local_currency',\n",
       " 'price_aprox_usd',\n",
       " 'surface_total_in_m2',\n",
       " 'surface_covered_in_m2',\n",
       " 'price_usd_per_m2',\n",
       " 'price_per_m2',\n",
       " 'floor',\n",
       " 'rooms',\n",
       " 'expenses',\n",
       " 'description',\n",
       " 'image_thumbnail']"
      ]
     },
     "execution_count": 52,
     "metadata": {},
     "output_type": "execute_result"
    }
   ],
   "source": [
    "data.columns[data.isna().any()].tolist()"
   ]
  },
  {
   "cell_type": "code",
   "execution_count": 53,
   "metadata": {},
   "outputs": [
    {
     "data": {
      "text/plain": [
       "(121220, 26)"
      ]
     },
     "execution_count": 53,
     "metadata": {},
     "output_type": "execute_result"
    }
   ],
   "source": [
    "data.shape"
   ]
  },
  {
   "cell_type": "code",
   "execution_count": 4,
   "metadata": {},
   "outputs": [
    {
     "data": {
      "text/plain": [
       "surface_total_in_m2      39.0\n",
       "surface_covered_in_m2    36.0\n",
       "Name: 12, dtype: float64"
      ]
     },
     "execution_count": 4,
     "metadata": {},
     "output_type": "execute_result"
    }
   ],
   "source": [
    "data.loc[:,\"surface_total_in_m2\":\"surface_covered_in_m2\"]\n",
    "data_prueba = data.loc[:,\"surface_total_in_m2\":\"surface_covered_in_m2\"]\n",
    "data_prueba.iloc[12]"
   ]
  },
  {
   "cell_type": "code",
   "execution_count": 12,
   "metadata": {},
   "outputs": [
    {
     "data": {
      "text/html": [
       "<div>\n",
       "<style scoped>\n",
       "    .dataframe tbody tr th:only-of-type {\n",
       "        vertical-align: middle;\n",
       "    }\n",
       "\n",
       "    .dataframe tbody tr th {\n",
       "        vertical-align: top;\n",
       "    }\n",
       "\n",
       "    .dataframe thead th {\n",
       "        text-align: right;\n",
       "    }\n",
       "</style>\n",
       "<table border=\"1\" class=\"dataframe\">\n",
       "  <thead>\n",
       "    <tr style=\"text-align: right;\">\n",
       "      <th></th>\n",
       "      <th>Unnamed: 0</th>\n",
       "      <th>operation</th>\n",
       "      <th>property_type</th>\n",
       "      <th>place_name</th>\n",
       "      <th>place_with_parent_names</th>\n",
       "      <th>country_name</th>\n",
       "      <th>state_name</th>\n",
       "      <th>geonames_id</th>\n",
       "      <th>lat-lon</th>\n",
       "      <th>lat</th>\n",
       "      <th>...</th>\n",
       "      <th>surface_covered_in_m2</th>\n",
       "      <th>price_usd_per_m2</th>\n",
       "      <th>price_per_m2</th>\n",
       "      <th>floor</th>\n",
       "      <th>rooms</th>\n",
       "      <th>expenses</th>\n",
       "      <th>properati_url</th>\n",
       "      <th>description</th>\n",
       "      <th>title</th>\n",
       "      <th>image_thumbnail</th>\n",
       "    </tr>\n",
       "  </thead>\n",
       "  <tbody>\n",
       "    <tr>\n",
       "      <th>0</th>\n",
       "      <td>0</td>\n",
       "      <td>sell</td>\n",
       "      <td>PH</td>\n",
       "      <td>Mataderos</td>\n",
       "      <td>|Argentina|Capital Federal|Mataderos|</td>\n",
       "      <td>Argentina</td>\n",
       "      <td>Capital Federal</td>\n",
       "      <td>3430787.0</td>\n",
       "      <td>-34.6618237,-58.5088387</td>\n",
       "      <td>-34.661824</td>\n",
       "      <td>...</td>\n",
       "      <td>40.0</td>\n",
       "      <td>1127.272727</td>\n",
       "      <td>1550.000000</td>\n",
       "      <td>NaN</td>\n",
       "      <td>NaN</td>\n",
       "      <td>NaN</td>\n",
       "      <td>http://www.properati.com.ar/15bo8_venta_ph_mat...</td>\n",
       "      <td>2 AMBIENTES TIPO CASA PLANTA BAJA POR PASILLO,...</td>\n",
       "      <td>2 AMB TIPO CASA SIN EXPENSAS EN PB</td>\n",
       "      <td>https://thumbs4.properati.com/8/BluUYiHJLhgIIK...</td>\n",
       "    </tr>\n",
       "    <tr>\n",
       "      <th>2</th>\n",
       "      <td>2</td>\n",
       "      <td>sell</td>\n",
       "      <td>apartment</td>\n",
       "      <td>Mataderos</td>\n",
       "      <td>|Argentina|Capital Federal|Mataderos|</td>\n",
       "      <td>Argentina</td>\n",
       "      <td>Capital Federal</td>\n",
       "      <td>3430787.0</td>\n",
       "      <td>-34.6522615,-58.5229825</td>\n",
       "      <td>-34.652262</td>\n",
       "      <td>...</td>\n",
       "      <td>55.0</td>\n",
       "      <td>1309.090909</td>\n",
       "      <td>1309.090909</td>\n",
       "      <td>NaN</td>\n",
       "      <td>NaN</td>\n",
       "      <td>NaN</td>\n",
       "      <td>http://www.properati.com.ar/15bod_venta_depart...</td>\n",
       "      <td>2 AMBIENTES 3ER PISO LATERAL LIVING COMEDOR AM...</td>\n",
       "      <td>2 AMB 3ER PISO CON ASCENSOR APTO CREDITO</td>\n",
       "      <td>https://thumbs4.properati.com/5/SXKr34F_IwG3W_...</td>\n",
       "    </tr>\n",
       "    <tr>\n",
       "      <th>4</th>\n",
       "      <td>4</td>\n",
       "      <td>sell</td>\n",
       "      <td>apartment</td>\n",
       "      <td>Centro</td>\n",
       "      <td>|Argentina|Buenos Aires Costa Atlántica|Mar de...</td>\n",
       "      <td>Argentina</td>\n",
       "      <td>Buenos Aires Costa Atlántica</td>\n",
       "      <td>3435548.0</td>\n",
       "      <td>-38.0026256,-57.5494468</td>\n",
       "      <td>-38.002626</td>\n",
       "      <td>...</td>\n",
       "      <td>35.0</td>\n",
       "      <td>1828.571429</td>\n",
       "      <td>1828.571429</td>\n",
       "      <td>NaN</td>\n",
       "      <td>NaN</td>\n",
       "      <td>NaN</td>\n",
       "      <td>http://www.properati.com.ar/15bok_venta_depart...</td>\n",
       "      <td>DEPARTAMENTO CON FANTÁSTICA ILUMINACIÓN NATURA...</td>\n",
       "      <td>DEPTO 2 AMB AL CONTRAFRENTE ZONA CENTRO/PLAZA ...</td>\n",
       "      <td>https://thumbs4.properati.com/5/xrRqlNcSI_vs-f...</td>\n",
       "    </tr>\n",
       "    <tr>\n",
       "      <th>6</th>\n",
       "      <td>6</td>\n",
       "      <td>sell</td>\n",
       "      <td>PH</td>\n",
       "      <td>Munro</td>\n",
       "      <td>|Argentina|Bs.As. G.B.A. Zona Norte|Vicente Ló...</td>\n",
       "      <td>Argentina</td>\n",
       "      <td>Bs.As. G.B.A. Zona Norte</td>\n",
       "      <td>3430511.0</td>\n",
       "      <td>-34.5329567,-58.5217825</td>\n",
       "      <td>-34.532957</td>\n",
       "      <td>...</td>\n",
       "      <td>78.0</td>\n",
       "      <td>1226.415094</td>\n",
       "      <td>1666.666667</td>\n",
       "      <td>NaN</td>\n",
       "      <td>NaN</td>\n",
       "      <td>NaN</td>\n",
       "      <td>http://www.properati.com.ar/15bor_venta_ph_mun...</td>\n",
       "      <td>MUY BUEN PH AL FRENTE CON ENTRADA INDEPENDIENT...</td>\n",
       "      <td>MUY BUEN PH AL FRENTE DOS DORMITORIOS , PATIO,...</td>\n",
       "      <td>https://thumbs4.properati.com/5/6GOXsHCyDu1aGx...</td>\n",
       "    </tr>\n",
       "    <tr>\n",
       "      <th>7</th>\n",
       "      <td>7</td>\n",
       "      <td>sell</td>\n",
       "      <td>apartment</td>\n",
       "      <td>Belgrano</td>\n",
       "      <td>|Argentina|Capital Federal|Belgrano|</td>\n",
       "      <td>Argentina</td>\n",
       "      <td>Capital Federal</td>\n",
       "      <td>3436077.0</td>\n",
       "      <td>-34.5598729,-58.443362</td>\n",
       "      <td>-34.559873</td>\n",
       "      <td>...</td>\n",
       "      <td>40.0</td>\n",
       "      <td>3066.666667</td>\n",
       "      <td>3450.000000</td>\n",
       "      <td>NaN</td>\n",
       "      <td>NaN</td>\n",
       "      <td>NaN</td>\n",
       "      <td>http://www.properati.com.ar/15bot_venta_depart...</td>\n",
       "      <td>EXCELENTE MONOAMBIENTE A ESTRENAR AMPLIO SUPER...</td>\n",
       "      <td>JOSE HERNANDEZ 1400 MONOAMBIENTE  ESTRENAR CAT...</td>\n",
       "      <td>https://thumbs4.properati.com/1/IHxARynlr8sPEW...</td>\n",
       "    </tr>\n",
       "    <tr>\n",
       "      <th>...</th>\n",
       "      <td>...</td>\n",
       "      <td>...</td>\n",
       "      <td>...</td>\n",
       "      <td>...</td>\n",
       "      <td>...</td>\n",
       "      <td>...</td>\n",
       "      <td>...</td>\n",
       "      <td>...</td>\n",
       "      <td>...</td>\n",
       "      <td>...</td>\n",
       "      <td>...</td>\n",
       "      <td>...</td>\n",
       "      <td>...</td>\n",
       "      <td>...</td>\n",
       "      <td>...</td>\n",
       "      <td>...</td>\n",
       "      <td>...</td>\n",
       "      <td>...</td>\n",
       "      <td>...</td>\n",
       "      <td>...</td>\n",
       "      <td>...</td>\n",
       "    </tr>\n",
       "    <tr>\n",
       "      <th>121215</th>\n",
       "      <td>121215</td>\n",
       "      <td>sell</td>\n",
       "      <td>apartment</td>\n",
       "      <td>Belgrano</td>\n",
       "      <td>|Argentina|Capital Federal|Belgrano|</td>\n",
       "      <td>Argentina</td>\n",
       "      <td>Capital Federal</td>\n",
       "      <td>3436077.0</td>\n",
       "      <td>NaN</td>\n",
       "      <td>NaN</td>\n",
       "      <td>...</td>\n",
       "      <td>93.0</td>\n",
       "      <td>7699.115044</td>\n",
       "      <td>9354.838710</td>\n",
       "      <td>NaN</td>\n",
       "      <td>NaN</td>\n",
       "      <td>10000.0</td>\n",
       "      <td>http://www.properati.com.ar/1cja2_venta_depart...</td>\n",
       "      <td>TORRE FORUM ALCORTA - MÁXIMA CATEGORÍA.Impecab...</td>\n",
       "      <td>Torre Forum Alcorta- Impecable 3 ambientes</td>\n",
       "      <td>https://thumbs4.properati.com/1/bjms0KnaAnlNoQ...</td>\n",
       "    </tr>\n",
       "    <tr>\n",
       "      <th>121216</th>\n",
       "      <td>121216</td>\n",
       "      <td>sell</td>\n",
       "      <td>house</td>\n",
       "      <td>Beccar</td>\n",
       "      <td>|Argentina|Bs.As. G.B.A. Zona Norte|San Isidro...</td>\n",
       "      <td>Argentina</td>\n",
       "      <td>Bs.As. G.B.A. Zona Norte</td>\n",
       "      <td>3436080.0</td>\n",
       "      <td>NaN</td>\n",
       "      <td>NaN</td>\n",
       "      <td>...</td>\n",
       "      <td>360.0</td>\n",
       "      <td>1383.333333</td>\n",
       "      <td>1383.333333</td>\n",
       "      <td>NaN</td>\n",
       "      <td>NaN</td>\n",
       "      <td>NaN</td>\n",
       "      <td>http://www.properati.com.ar/1cja6_venta_casa_b...</td>\n",
       "      <td>Excelente e impecable casa en Venta en Las Lom...</td>\n",
       "      <td>Ruca Inmuebles | Venta | Lomas de San Isidro |...</td>\n",
       "      <td>https://thumbs4.properati.com/2/PCc3WuQDjpNZc4...</td>\n",
       "    </tr>\n",
       "    <tr>\n",
       "      <th>121217</th>\n",
       "      <td>121217</td>\n",
       "      <td>sell</td>\n",
       "      <td>apartment</td>\n",
       "      <td>Villa Urquiza</td>\n",
       "      <td>|Argentina|Capital Federal|Villa Urquiza|</td>\n",
       "      <td>Argentina</td>\n",
       "      <td>Capital Federal</td>\n",
       "      <td>3433775.0</td>\n",
       "      <td>-34.5706388726,-58.4755963355</td>\n",
       "      <td>-34.570639</td>\n",
       "      <td>...</td>\n",
       "      <td>39.0</td>\n",
       "      <td>2858.695652</td>\n",
       "      <td>3371.794872</td>\n",
       "      <td>NaN</td>\n",
       "      <td>NaN</td>\n",
       "      <td>NaN</td>\n",
       "      <td>http://www.properati.com.ar/1cja7_venta_depart...</td>\n",
       "      <td>VENTA DEPARTAMENTO AMBIENTE DIVISIBLE A ESTREN...</td>\n",
       "      <td>VENTA DEPARTAMENTO AMBIENTE DIVISIBLE A ESTREN...</td>\n",
       "      <td>https://thumbs4.properati.com/9/YAe_-2gRVykADP...</td>\n",
       "    </tr>\n",
       "    <tr>\n",
       "      <th>121218</th>\n",
       "      <td>121218</td>\n",
       "      <td>sell</td>\n",
       "      <td>apartment</td>\n",
       "      <td>Plaza Colón</td>\n",
       "      <td>|Argentina|Buenos Aires Costa Atlántica|Mar de...</td>\n",
       "      <td>Argentina</td>\n",
       "      <td>Buenos Aires Costa Atlántica</td>\n",
       "      <td>NaN</td>\n",
       "      <td>NaN</td>\n",
       "      <td>NaN</td>\n",
       "      <td>...</td>\n",
       "      <td>48.0</td>\n",
       "      <td>1997.916667</td>\n",
       "      <td>1997.916667</td>\n",
       "      <td>NaN</td>\n",
       "      <td>NaN</td>\n",
       "      <td>NaN</td>\n",
       "      <td>http://www.properati.com.ar/1cja8_venta_depart...</td>\n",
       "      <td>2 Amb al contrafrente,  luminoso. El departame...</td>\n",
       "      <td>2 amb. C/ dep. de servicio al contrafrente| Re...</td>\n",
       "      <td>https://thumbs4.properati.com/8/Q12PTvU6BQJ0ib...</td>\n",
       "    </tr>\n",
       "    <tr>\n",
       "      <th>121219</th>\n",
       "      <td>121219</td>\n",
       "      <td>sell</td>\n",
       "      <td>apartment</td>\n",
       "      <td>Capital Federal</td>\n",
       "      <td>|Argentina|Capital Federal|</td>\n",
       "      <td>Argentina</td>\n",
       "      <td>Capital Federal</td>\n",
       "      <td>3433955.0</td>\n",
       "      <td>NaN</td>\n",
       "      <td>NaN</td>\n",
       "      <td>...</td>\n",
       "      <td>77.0</td>\n",
       "      <td>1675.324675</td>\n",
       "      <td>1675.324675</td>\n",
       "      <td>NaN</td>\n",
       "      <td>NaN</td>\n",
       "      <td>3500.0</td>\n",
       "      <td>http://www.properati.com.ar/1cjaa_venta_depart...</td>\n",
       "      <td>Departamento de 77 m2 apto profesional. Edific...</td>\n",
       "      <td>Departamento apto profesional en el Centro</td>\n",
       "      <td>https://thumbs4.properati.com/8/mNEsnQWqB7joBF...</td>\n",
       "    </tr>\n",
       "  </tbody>\n",
       "</table>\n",
       "<p>63352 rows × 26 columns</p>\n",
       "</div>"
      ],
      "text/plain": [
       "        Unnamed: 0 operation property_type       place_name  \\\n",
       "0                0      sell            PH        Mataderos   \n",
       "2                2      sell     apartment        Mataderos   \n",
       "4                4      sell     apartment           Centro   \n",
       "6                6      sell            PH            Munro   \n",
       "7                7      sell     apartment         Belgrano   \n",
       "...            ...       ...           ...              ...   \n",
       "121215      121215      sell     apartment         Belgrano   \n",
       "121216      121216      sell         house           Beccar   \n",
       "121217      121217      sell     apartment    Villa Urquiza   \n",
       "121218      121218      sell     apartment      Plaza Colón   \n",
       "121219      121219      sell     apartment  Capital Federal   \n",
       "\n",
       "                                  place_with_parent_names country_name  \\\n",
       "0                   |Argentina|Capital Federal|Mataderos|    Argentina   \n",
       "2                   |Argentina|Capital Federal|Mataderos|    Argentina   \n",
       "4       |Argentina|Buenos Aires Costa Atlántica|Mar de...    Argentina   \n",
       "6       |Argentina|Bs.As. G.B.A. Zona Norte|Vicente Ló...    Argentina   \n",
       "7                    |Argentina|Capital Federal|Belgrano|    Argentina   \n",
       "...                                                   ...          ...   \n",
       "121215               |Argentina|Capital Federal|Belgrano|    Argentina   \n",
       "121216  |Argentina|Bs.As. G.B.A. Zona Norte|San Isidro...    Argentina   \n",
       "121217          |Argentina|Capital Federal|Villa Urquiza|    Argentina   \n",
       "121218  |Argentina|Buenos Aires Costa Atlántica|Mar de...    Argentina   \n",
       "121219                        |Argentina|Capital Federal|    Argentina   \n",
       "\n",
       "                          state_name  geonames_id  \\\n",
       "0                    Capital Federal    3430787.0   \n",
       "2                    Capital Federal    3430787.0   \n",
       "4       Buenos Aires Costa Atlántica    3435548.0   \n",
       "6           Bs.As. G.B.A. Zona Norte    3430511.0   \n",
       "7                    Capital Federal    3436077.0   \n",
       "...                              ...          ...   \n",
       "121215               Capital Federal    3436077.0   \n",
       "121216      Bs.As. G.B.A. Zona Norte    3436080.0   \n",
       "121217               Capital Federal    3433775.0   \n",
       "121218  Buenos Aires Costa Atlántica          NaN   \n",
       "121219               Capital Federal    3433955.0   \n",
       "\n",
       "                              lat-lon        lat  ...  surface_covered_in_m2  \\\n",
       "0             -34.6618237,-58.5088387 -34.661824  ...                   40.0   \n",
       "2             -34.6522615,-58.5229825 -34.652262  ...                   55.0   \n",
       "4             -38.0026256,-57.5494468 -38.002626  ...                   35.0   \n",
       "6             -34.5329567,-58.5217825 -34.532957  ...                   78.0   \n",
       "7              -34.5598729,-58.443362 -34.559873  ...                   40.0   \n",
       "...                               ...        ...  ...                    ...   \n",
       "121215                            NaN        NaN  ...                   93.0   \n",
       "121216                            NaN        NaN  ...                  360.0   \n",
       "121217  -34.5706388726,-58.4755963355 -34.570639  ...                   39.0   \n",
       "121218                            NaN        NaN  ...                   48.0   \n",
       "121219                            NaN        NaN  ...                   77.0   \n",
       "\n",
       "        price_usd_per_m2 price_per_m2  floor  rooms  expenses  \\\n",
       "0            1127.272727  1550.000000    NaN    NaN       NaN   \n",
       "2            1309.090909  1309.090909    NaN    NaN       NaN   \n",
       "4            1828.571429  1828.571429    NaN    NaN       NaN   \n",
       "6            1226.415094  1666.666667    NaN    NaN       NaN   \n",
       "7            3066.666667  3450.000000    NaN    NaN       NaN   \n",
       "...                  ...          ...    ...    ...       ...   \n",
       "121215       7699.115044  9354.838710    NaN    NaN   10000.0   \n",
       "121216       1383.333333  1383.333333    NaN    NaN       NaN   \n",
       "121217       2858.695652  3371.794872    NaN    NaN       NaN   \n",
       "121218       1997.916667  1997.916667    NaN    NaN       NaN   \n",
       "121219       1675.324675  1675.324675    NaN    NaN    3500.0   \n",
       "\n",
       "                                            properati_url  \\\n",
       "0       http://www.properati.com.ar/15bo8_venta_ph_mat...   \n",
       "2       http://www.properati.com.ar/15bod_venta_depart...   \n",
       "4       http://www.properati.com.ar/15bok_venta_depart...   \n",
       "6       http://www.properati.com.ar/15bor_venta_ph_mun...   \n",
       "7       http://www.properati.com.ar/15bot_venta_depart...   \n",
       "...                                                   ...   \n",
       "121215  http://www.properati.com.ar/1cja2_venta_depart...   \n",
       "121216  http://www.properati.com.ar/1cja6_venta_casa_b...   \n",
       "121217  http://www.properati.com.ar/1cja7_venta_depart...   \n",
       "121218  http://www.properati.com.ar/1cja8_venta_depart...   \n",
       "121219  http://www.properati.com.ar/1cjaa_venta_depart...   \n",
       "\n",
       "                                              description  \\\n",
       "0       2 AMBIENTES TIPO CASA PLANTA BAJA POR PASILLO,...   \n",
       "2       2 AMBIENTES 3ER PISO LATERAL LIVING COMEDOR AM...   \n",
       "4       DEPARTAMENTO CON FANTÁSTICA ILUMINACIÓN NATURA...   \n",
       "6       MUY BUEN PH AL FRENTE CON ENTRADA INDEPENDIENT...   \n",
       "7       EXCELENTE MONOAMBIENTE A ESTRENAR AMPLIO SUPER...   \n",
       "...                                                   ...   \n",
       "121215  TORRE FORUM ALCORTA - MÁXIMA CATEGORÍA.Impecab...   \n",
       "121216  Excelente e impecable casa en Venta en Las Lom...   \n",
       "121217  VENTA DEPARTAMENTO AMBIENTE DIVISIBLE A ESTREN...   \n",
       "121218  2 Amb al contrafrente,  luminoso. El departame...   \n",
       "121219  Departamento de 77 m2 apto profesional. Edific...   \n",
       "\n",
       "                                                    title  \\\n",
       "0                      2 AMB TIPO CASA SIN EXPENSAS EN PB   \n",
       "2                2 AMB 3ER PISO CON ASCENSOR APTO CREDITO   \n",
       "4       DEPTO 2 AMB AL CONTRAFRENTE ZONA CENTRO/PLAZA ...   \n",
       "6       MUY BUEN PH AL FRENTE DOS DORMITORIOS , PATIO,...   \n",
       "7       JOSE HERNANDEZ 1400 MONOAMBIENTE  ESTRENAR CAT...   \n",
       "...                                                   ...   \n",
       "121215         Torre Forum Alcorta- Impecable 3 ambientes   \n",
       "121216  Ruca Inmuebles | Venta | Lomas de San Isidro |...   \n",
       "121217  VENTA DEPARTAMENTO AMBIENTE DIVISIBLE A ESTREN...   \n",
       "121218  2 amb. C/ dep. de servicio al contrafrente| Re...   \n",
       "121219         Departamento apto profesional en el Centro   \n",
       "\n",
       "                                          image_thumbnail  \n",
       "0       https://thumbs4.properati.com/8/BluUYiHJLhgIIK...  \n",
       "2       https://thumbs4.properati.com/5/SXKr34F_IwG3W_...  \n",
       "4       https://thumbs4.properati.com/5/xrRqlNcSI_vs-f...  \n",
       "6       https://thumbs4.properati.com/5/6GOXsHCyDu1aGx...  \n",
       "7       https://thumbs4.properati.com/1/IHxARynlr8sPEW...  \n",
       "...                                                   ...  \n",
       "121215  https://thumbs4.properati.com/1/bjms0KnaAnlNoQ...  \n",
       "121216  https://thumbs4.properati.com/2/PCc3WuQDjpNZc4...  \n",
       "121217  https://thumbs4.properati.com/9/YAe_-2gRVykADP...  \n",
       "121218  https://thumbs4.properati.com/8/Q12PTvU6BQJ0ib...  \n",
       "121219  https://thumbs4.properati.com/8/mNEsnQWqB7joBF...  \n",
       "\n",
       "[63352 rows x 26 columns]"
      ]
     },
     "execution_count": 12,
     "metadata": {},
     "output_type": "execute_result"
    }
   ],
   "source": [
    "data_Prices = data.copy()\n",
    "data_filtered_nonull = data_Prices.dropna(subset=['price','surface_total_in_m2', 'surface_covered_in_m2', 'price_aprox_usd','price_usd_per_m2', ])\n",
    "data_filtered_nonull"
   ]
  },
  {
   "cell_type": "code",
   "execution_count": 13,
   "metadata": {},
   "outputs": [
    {
     "name": "stdout",
     "output_type": "stream",
     "text": [
      "(63352, 26)\n"
     ]
    }
   ],
   "source": [
    "print(data_filtered_nonull.shape)"
   ]
  },
  {
   "cell_type": "code",
   "execution_count": 14,
   "metadata": {},
   "outputs": [
    {
     "name": "stdout",
     "output_type": "stream",
     "text": [
      "(121220, 26)\n"
     ]
    }
   ],
   "source": [
    "print(data.shape)"
   ]
  },
  {
   "cell_type": "code",
   "execution_count": 18,
   "metadata": {},
   "outputs": [
    {
     "data": {
      "text/plain": [
       "57868"
      ]
     },
     "execution_count": 18,
     "metadata": {},
     "output_type": "execute_result"
    }
   ],
   "source": [
    "Descarte = len(data) - len(data_filtered_nonull)\n",
    "Descarte"
   ]
  },
  {
   "cell_type": "code",
   "execution_count": 19,
   "metadata": {},
   "outputs": [
    {
     "data": {
      "text/plain": [
       "['place_name',\n",
       " 'geonames_id',\n",
       " 'lat-lon',\n",
       " 'lat',\n",
       " 'lon',\n",
       " 'price',\n",
       " 'currency',\n",
       " 'price_aprox_local_currency',\n",
       " 'price_aprox_usd',\n",
       " 'surface_total_in_m2',\n",
       " 'surface_covered_in_m2',\n",
       " 'price_usd_per_m2',\n",
       " 'price_per_m2',\n",
       " 'floor',\n",
       " 'rooms',\n",
       " 'expenses',\n",
       " 'description',\n",
       " 'image_thumbnail']"
      ]
     },
     "execution_count": 19,
     "metadata": {},
     "output_type": "execute_result"
    }
   ],
   "source": [
    "data_Prices.columns[data.isna().any()].tolist()"
   ]
  },
  {
   "cell_type": "code",
   "execution_count": null,
   "metadata": {},
   "outputs": [],
   "source": [
    "#Probablemente una estrategia para reemplazar los valores faltantes de 'surface_total_in_m2' en vez de eliminaros, podria ser utilizar la media por barrio. Para que no afecte tanto el desvio estandar de la muestra."
   ]
  },
  {
   "cell_type": "code",
   "execution_count": null,
   "metadata": {},
   "outputs": [],
   "source": [
    "#La superficie total no puede ser menor a la cubierta. Podemos intercambiar los valores de superficie total con superficie cubierta en caso de que se cumpla la condicion de que sea menor.."
   ]
  },
  {
   "cell_type": "code",
   "execution_count": 22,
   "metadata": {},
   "outputs": [
    {
     "data": {
      "text/plain": [
       "Unnamed: 0                         0\n",
       "operation                          0\n",
       "property_type                      0\n",
       "place_name                        23\n",
       "place_with_parent_names            0\n",
       "country_name                       0\n",
       "state_name                         0\n",
       "geonames_id                    18717\n",
       "lat-lon                        51550\n",
       "lat                            51550\n",
       "lon                            51550\n",
       "price                          20410\n",
       "currency                       20411\n",
       "price_aprox_local_currency     20410\n",
       "price_aprox_usd                20410\n",
       "surface_total_in_m2            39328\n",
       "surface_covered_in_m2          19907\n",
       "price_usd_per_m2               52603\n",
       "price_per_m2                   33562\n",
       "floor                         113321\n",
       "rooms                          73830\n",
       "expenses                      106958\n",
       "properati_url                      0\n",
       "description                        2\n",
       "title                              0\n",
       "image_thumbnail                 3112\n",
       "dtype: int64"
      ]
     },
     "execution_count": 22,
     "metadata": {},
     "output_type": "execute_result"
    }
   ],
   "source": [
    "# puedo completar los valores faltantes de superficie total con la media\n",
    "data.isnull().sum()"
   ]
  },
  {
   "cell_type": "code",
   "execution_count": 104,
   "metadata": {},
   "outputs": [],
   "source": [
    "#Imputar por mediana\n",
    "Imputer_data_mean= impute.SimpleImputer(missing_values= np.nan, strategy='median', fill_value=None)"
   ]
  },
  {
   "cell_type": "code",
   "execution_count": 105,
   "metadata": {},
   "outputs": [
    {
     "data": {
      "text/plain": [
       "239700.57692847901"
      ]
     },
     "execution_count": 105,
     "metadata": {},
     "output_type": "execute_result"
    }
   ],
   "source": [
    "data['price_aprox_usd'].mean()"
   ]
  },
  {
   "cell_type": "code",
   "execution_count": 106,
   "metadata": {},
   "outputs": [
    {
     "data": {
      "text/plain": [
       "145000.0"
      ]
     },
     "execution_count": 106,
     "metadata": {},
     "output_type": "execute_result"
    }
   ],
   "source": [
    "data['price_aprox_usd'].median()"
   ]
  },
  {
   "cell_type": "code",
   "execution_count": 107,
   "metadata": {},
   "outputs": [],
   "source": [
    "Data_price_imputed= Imputer_data_mean.fit_transform(data[['price_aprox_usd']])"
   ]
  },
  {
   "cell_type": "code",
   "execution_count": 108,
   "metadata": {},
   "outputs": [],
   "source": [
    "#Modifique la columna \"price_aprox_usd\" y la complete con el valor de la mediana\n",
    "data['price_aprox_usd'] = Data_price_imputed"
   ]
  },
  {
   "cell_type": "code",
   "execution_count": 109,
   "metadata": {},
   "outputs": [
    {
     "data": {
      "text/plain": [
       "(121220, 1)"
      ]
     },
     "execution_count": 109,
     "metadata": {},
     "output_type": "execute_result"
    }
   ],
   "source": [
    "np.shape(data[['price_aprox_usd']])"
   ]
  },
  {
   "cell_type": "code",
   "execution_count": 110,
   "metadata": {},
   "outputs": [
    {
     "data": {
      "text/plain": [
       "False"
      ]
     },
     "execution_count": 110,
     "metadata": {},
     "output_type": "execute_result"
    }
   ],
   "source": [
    "np.isnan(Data_price_imputed).any()"
   ]
  },
  {
   "cell_type": "code",
   "execution_count": 111,
   "metadata": {},
   "outputs": [
    {
     "data": {
      "text/plain": [
       "0"
      ]
     },
     "execution_count": 111,
     "metadata": {},
     "output_type": "execute_result"
    }
   ],
   "source": [
    "data.price_aprox_usd.isnull().sum() # No hay mas valores nulos en la columna precio por metro cuadrado en dolares."
   ]
  },
  {
   "cell_type": "code",
   "execution_count": 112,
   "metadata": {},
   "outputs": [
    {
     "data": {
      "text/plain": [
       "145000.0"
      ]
     },
     "execution_count": 112,
     "metadata": {},
     "output_type": "execute_result"
    }
   ],
   "source": [
    "data.price_aprox_usd.median() # La mediana sigue siendo la misma. La mediana no cambia por que nosotros eliminamos todos los valores procentuales con respecto a la mediana por lo que el valor ubicado al medio jamas cambiara"
   ]
  },
  {
   "cell_type": "code",
   "execution_count": 93,
   "metadata": {},
   "outputs": [
    {
     "data": {
      "text/plain": [
       "count    1.008100e+05\n",
       "mean     2.397006e+05\n",
       "std      3.913239e+05\n",
       "min      0.000000e+00\n",
       "25%      8.973388e+04\n",
       "50%      1.450000e+05\n",
       "75%      2.650000e+05\n",
       "max      4.654544e+07\n",
       "Name: price_aprox_usd, dtype: float64"
      ]
     },
     "execution_count": 93,
     "metadata": {},
     "output_type": "execute_result"
    }
   ],
   "source": [
    "data.price_aprox_usd.describe()"
   ]
  },
  {
   "cell_type": "code",
   "execution_count": 179,
   "metadata": {},
   "outputs": [],
   "source": [
    "# Filtro por la columna precio por metros cuadrados entre 0.2 y 0.95 de los datos para\n",
    "data_filtered = data[(data.price_usd_per_m2 < data.price_usd_per_m2.quantile(.95)) & (data.price_usd_per_m2 > data.price_usd_per_m2.quantile(.02))]"
   ]
  },
  {
   "cell_type": "code",
   "execution_count": 175,
   "metadata": {},
   "outputs": [
    {
     "data": {
      "text/plain": [
       "count    63796.000000\n",
       "mean      1812.357859\n",
       "std        833.550264\n",
       "min        200.298833\n",
       "25%       1225.775072\n",
       "50%       1770.833333\n",
       "75%       2375.000000\n",
       "max       4081.819192\n",
       "Name: price_usd_per_m2, dtype: float64"
      ]
     },
     "execution_count": 175,
     "metadata": {},
     "output_type": "execute_result"
    }
   ],
   "source": [
    "data_filtered.price_usd_per_m2.describe()"
   ]
  },
  {
   "cell_type": "code",
   "execution_count": 151,
   "metadata": {},
   "outputs": [
    {
     "data": {
      "image/png": "[encoded data removed]",
      "text/plain": [
       "<Figure size 1080x720 with 2 Axes>"
      ]
     },
     "metadata": {},
     "output_type": "display_data"
    }
   ],
   "source": [
    "sns.set(style=\"white\", palette=\"muted\", color_codes=True)\n",
    "rs = np.random.RandomState(10)\n",
    "\n",
    "# Set up the matplotlib figure\n",
    "f, axes = plt.subplots(1, 2, figsize=(15, 10))\n",
    "\n",
    "\n",
    "\n",
    "g1=sns.distplot(data[['price_usd_per_m2']],ax=axes[0])\n",
    "g1.axes.set_title('Precios sin Filtrar', fontsize=25)\n",
    "\n",
    "g2 = sns.distplot(data_filtered[['price_usd_per_m2']], color=\"red\",ax=axes[1])\n",
    "g2.axes.set_title('Precios Filtrados', fontsize=25,  color=\"Red\")\n",
    "\n",
    "plt.setp(axes, yticks=[])\n",
    "plt.tight_layout()\n",
    "plt.show()\n",
    "\n"
   ]
  },
  {
   "cell_type": "code",
   "execution_count": 79,
   "metadata": {},
   "outputs": [],
   "source": [
    "# El primer grafico muestra resultados en forma de L. Con muchos casos en 0/M2 y otro tanto en 200000/M2 USD. Eliminamos los precios nulos.Para ver la disribucion de los precios, se decidio trabajar con los quantiles entre 0.2 y 0.95. En el grafico de la derecha se puede apreciar que la mayoria de los casos tiene un valor aproximado de 2000 USD/m2 p"
   ]
  },
  {
   "cell_type": "code",
   "execution_count": null,
   "metadata": {},
   "outputs": [],
   "source": []
  },
  {
   "cell_type": "code",
   "execution_count": 207,
   "metadata": {},
   "outputs": [
    {
     "data": {
      "text/html": [
       "<div>\n",
       "<style scoped>\n",
       "    .dataframe tbody tr th:only-of-type {\n",
       "        vertical-align: middle;\n",
       "    }\n",
       "\n",
       "    .dataframe tbody tr th {\n",
       "        vertical-align: top;\n",
       "    }\n",
       "\n",
       "    .dataframe thead th {\n",
       "        text-align: right;\n",
       "    }\n",
       "</style>\n",
       "<table border=\"1\" class=\"dataframe\">\n",
       "  <thead>\n",
       "    <tr style=\"text-align: right;\">\n",
       "      <th></th>\n",
       "      <th>surface_covered_in_m2</th>\n",
       "    </tr>\n",
       "    <tr>\n",
       "      <th>place_name</th>\n",
       "      <th></th>\n",
       "    </tr>\n",
       "  </thead>\n",
       "  <tbody>\n",
       "    <tr>\n",
       "      <th>Delta</th>\n",
       "      <td>3717.727273</td>\n",
       "    </tr>\n",
       "    <tr>\n",
       "      <th>Murphy</th>\n",
       "      <td>3200.000000</td>\n",
       "    </tr>\n",
       "    <tr>\n",
       "      <th>Villa Soldati</th>\n",
       "      <td>1951.500000</td>\n",
       "    </tr>\n",
       "    <tr>\n",
       "      <th>Esquel</th>\n",
       "      <td>1300.000000</td>\n",
       "    </tr>\n",
       "    <tr>\n",
       "      <th>Grand Bell</th>\n",
       "      <td>1200.000000</td>\n",
       "    </tr>\n",
       "    <tr>\n",
       "      <th>...</th>\n",
       "      <td>...</td>\n",
       "    </tr>\n",
       "    <tr>\n",
       "      <th>Santa Trinidad</th>\n",
       "      <td>NaN</td>\n",
       "    </tr>\n",
       "    <tr>\n",
       "      <th>Serodino</th>\n",
       "      <td>NaN</td>\n",
       "    </tr>\n",
       "    <tr>\n",
       "      <th>Tafí Viejo</th>\n",
       "      <td>NaN</td>\n",
       "    </tr>\n",
       "    <tr>\n",
       "      <th>Trelew</th>\n",
       "      <td>NaN</td>\n",
       "    </tr>\n",
       "    <tr>\n",
       "      <th>Wenceslao Escalante</th>\n",
       "      <td>NaN</td>\n",
       "    </tr>\n",
       "  </tbody>\n",
       "</table>\n",
       "<p>749 rows × 1 columns</p>\n",
       "</div>"
      ],
      "text/plain": [
       "                     surface_covered_in_m2\n",
       "place_name                                \n",
       "Delta                          3717.727273\n",
       "Murphy                         3200.000000\n",
       "Villa Soldati                  1951.500000\n",
       "Esquel                         1300.000000\n",
       "Grand Bell                     1200.000000\n",
       "...                                    ...\n",
       "Santa Trinidad                         NaN\n",
       "Serodino                               NaN\n",
       "Tafí Viejo                             NaN\n",
       "Trelew                                 NaN\n",
       "Wenceslao Escalante                    NaN\n",
       "\n",
       "[749 rows x 1 columns]"
      ]
     },
     "execution_count": 207,
     "metadata": {},
     "output_type": "execute_result"
    }
   ],
   "source": [
    "#Agrupo barrios por superficie cubierta para estimar la media y extraporlarla a los valores NaN\n",
    "barrios = data_filtered[[\"place_name\", 'surface_covered_in_m2']].groupby('place_name').mean().sort_values('surface_covered_in_m2', ascending=False)\n",
    "barrios"
   ]
  },
  {
   "cell_type": "code",
   "execution_count": null,
   "metadata": {},
   "outputs": [],
   "source": [
    " "
   ]
  },
  {
   "cell_type": "code",
   "execution_count": 173,
   "metadata": {},
   "outputs": [
    {
     "data": {
      "text/html": [
       "<div>\n",
       "<style scoped>\n",
       "    .dataframe tbody tr th:only-of-type {\n",
       "        vertical-align: middle;\n",
       "    }\n",
       "\n",
       "    .dataframe tbody tr th {\n",
       "        vertical-align: top;\n",
       "    }\n",
       "\n",
       "    .dataframe thead th {\n",
       "        text-align: right;\n",
       "    }\n",
       "</style>\n",
       "<table border=\"1\" class=\"dataframe\">\n",
       "  <thead>\n",
       "    <tr style=\"text-align: right;\">\n",
       "      <th></th>\n",
       "      <th>surface_total_in_m2</th>\n",
       "    </tr>\n",
       "    <tr>\n",
       "      <th>place_name</th>\n",
       "      <th></th>\n",
       "    </tr>\n",
       "  </thead>\n",
       "  <tbody>\n",
       "    <tr>\n",
       "      <th>Villa Icho Cruz</th>\n",
       "      <td>4850.0</td>\n",
       "    </tr>\n",
       "    <tr>\n",
       "      <th>Grand Bell</th>\n",
       "      <td>3715.0</td>\n",
       "    </tr>\n",
       "    <tr>\n",
       "      <th>Murphy</th>\n",
       "      <td>3200.0</td>\n",
       "    </tr>\n",
       "    <tr>\n",
       "      <th>Fátima</th>\n",
       "      <td>2682.0</td>\n",
       "    </tr>\n",
       "  </tbody>\n",
       "</table>\n",
       "</div>"
      ],
      "text/plain": [
       "                 surface_total_in_m2\n",
       "place_name                          \n",
       "Villa Icho Cruz               4850.0\n",
       "Grand Bell                    3715.0\n",
       "Murphy                        3200.0\n",
       "Fátima                        2682.0"
      ]
     },
     "execution_count": 173,
     "metadata": {},
     "output_type": "execute_result"
    }
   ],
   "source": [
    "table = pd.pivot_table(data_filtered, values='surface_total_in_m2', index=['place_name'], aggfunc=np.mean)\n",
    "Expensive_m2 = table.sort_values('surface_total_in_m2', ascending=False).iloc[:4]\n",
    "Expensive_m2"
   ]
  },
  {
   "cell_type": "code",
   "execution_count": 200,
   "metadata": {},
   "outputs": [
    {
     "name": "stderr",
     "output_type": "stream",
     "text": [
      "<ipython-input-200-ed653f811f5a>:3: FutureWarning: Using a non-tuple sequence for multidimensional indexing is deprecated; use `arr[tuple(seq)]` instead of `arr[seq]`. In the future this will be interpreted as an array index, `arr[np.array(seq)]`, which will result either in an error or a different result.\n",
      "  correlation_val.values[[np.arange(6)]*2] =0\n"
     ]
    },
    {
     "data": {
      "image/png": "[encoded data removed]",
      "text/plain": [
       "<Figure size 1152x576 with 2 Axes>"
      ]
     },
     "metadata": {},
     "output_type": "display_data"
    }
   ],
   "source": [
    "fig, ax = plt.subplots(figsize=(16,8))         # Sample figsize in inches\n",
    "correlation_val = data.corr().abs()\n",
    "correlation_val.values[[np.arange(6)]*2] =0\n",
    "ax = plt.axes()\n",
    "sns.heatmap(correlation_val,cmap='Reds', alpha=0.5,ax=ax);\n",
    "ax.set_title('Nivel de correlacion entre los datos', fontsize=20)\n",
    "plt.show()"
   ]
  },
  {
   "cell_type": "code",
   "execution_count": 205,
   "metadata": {},
   "outputs": [
    {
     "name": "stderr",
     "output_type": "stream",
     "text": [
      "<ipython-input-205-60157b83f285>:3: FutureWarning: Using a non-tuple sequence for multidimensional indexing is deprecated; use `arr[tuple(seq)]` instead of `arr[seq]`. In the future this will be interpreted as an array index, `arr[np.array(seq)]`, which will result either in an error or a different result.\n",
      "  correlation_val.values[[np.arange(6)]*2] =0\n"
     ]
    },
    {
     "data": {
      "image/png": "[encoded data removed]",
      "text/plain": [
       "<Figure size 1152x576 with 2 Axes>"
      ]
     },
     "metadata": {},
     "output_type": "display_data"
    }
   ],
   "source": [
    "fig, ax = plt.subplots(figsize=(16,8))         # Sample figsize in inches\n",
    "correlation_val = data_filtered.corr().abs()\n",
    "correlation_val.values[[np.arange(6)]*2] =0\n",
    "ax = plt.axes()\n",
    "sns.heatmap(correlation_val,cmap='Reds', alpha=0.5,ax=ax);\n",
    "ax.set_title('Nivel de correlacion entre los datos', fontsize=20)\n",
    "plt.show()"
   ]
  }
 ],
 "metadata": {
  "kernelspec": {
   "display_name": "Python 3",
   "language": "python",
   "name": "python3"
  },
  "language_info": {
   "codemirror_mode": {
    "name": "ipython",
    "version": 3
   },
   "file_extension": ".py",
   "mimetype": "text/x-python",
   "name": "python",
   "nbconvert_exporter": "python",
   "pygments_lexer": "ipython3",
   "version": "3.7.9"
  }
 },
 "nbformat": 4,
 "nbformat_minor": 4
}
